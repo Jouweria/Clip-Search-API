{
 "cells": [
  {
   "cell_type": "code",
   "execution_count": null,
   "id": "b76bd560",
   "metadata": {},
   "outputs": [],
   "source": [
    "!pip install Flask-RESTful"
   ]
  },
  {
   "cell_type": "code",
   "execution_count": null,
   "id": "16e0d4dc",
   "metadata": {},
   "outputs": [],
   "source": [
    "!pip install Flask"
   ]
  },
  {
   "cell_type": "code",
   "execution_count": null,
   "id": "db5d9b1b",
   "metadata": {},
   "outputs": [],
   "source": [
    "import torch\n",
    "import clip\n",
    "import cv2\n",
    "import numpy as np\n",
    "from PIL import Image\n",
    "from flask import Flask\n",
    "from flask_restful import Resource, Api, reqparse\n",
    "import os\n",
    "\n",
    "device = \"cuda\" if torch.cuda.is_available() else \"cpu\"\n",
    "model, preprocess = clip.load(\"ViT-B/32\", device=device)"
   ]
  },
  {
   "cell_type": "code",
   "execution_count": 3,
   "id": "38e5861b",
   "metadata": {},
   "outputs": [],
   "source": [
    "THRESHOLD = 0.27\n",
    "NUM_FRAMES = 5"
   ]
  },
  {
   "cell_type": "code",
   "execution_count": 15,
   "id": "f8524456",
   "metadata": {},
   "outputs": [],
   "source": [
    "def extract_frames(video_path):\n",
    "    vidcap = cv2.VideoCapture(video_path)\n",
    "    frames = []\n",
    "    success,image = vidcap.read()\n",
    "    count = 0\n",
    "    while success:\n",
    "        frames.append(Image.fromarray(image))\n",
    "        success,image = vidcap.read()\n",
    "        count += 1\n",
    "    return frames"
   ]
  },
  {
   "cell_type": "code",
   "execution_count": 4,
   "id": "bc473760",
   "metadata": {},
   "outputs": [],
   "source": [
    "def check(score):\n",
    "    curr_score = 0\n",
    "    i = 0\n",
    "    cnt = 0\n",
    "    while i < NUM_FRAMES and i < len(score):\n",
    "        curr_score += score[i]\n",
    "        i += 1\n",
    "    if(curr_score/NUM_FRAMES >= THRESHOLD):\n",
    "        cnt+=1\n",
    "    while i < len(score):\n",
    "        curr_score += score[i];\n",
    "        curr_score -= score[i- NUM_FRAMES]\n",
    "        if(curr_score/NUM_FRAMES >= THRESHOLD):\n",
    "            cnt+=1\n",
    "        i+=1\n",
    "    return cnt"
   ]
  },
  {
   "cell_type": "code",
   "execution_count": 5,
   "id": "464da4ab",
   "metadata": {},
   "outputs": [],
   "source": [
    "def process_videos(video_paths):\n",
    "    res = []\n",
    "    for video_path in video_paths:\n",
    "        frames = extract_frames(video_path)\n",
    "        curr_vid = []\n",
    "        for img in frames:\n",
    "            image = preprocess(img).unsqueeze(0).to(device)\n",
    "            with torch.no_grad():\n",
    "                image = model.encode_image(image).float()\n",
    "                image /= image.norm(dim=-1, keepdim=True)\n",
    "            curr_vid.append(image)\n",
    "        res.append(curr_vid)\n",
    "    return res"
   ]
  },
  {
   "cell_type": "code",
   "execution_count": 44,
   "id": "a93bc3c0",
   "metadata": {},
   "outputs": [],
   "source": [
    "def search_preprocessed_data(data, text):\n",
    "    res = []\n",
    "    text = clip.tokenize(text).to(device)\n",
    "    with torch.no_grad():\n",
    "        text = model.encode_text(text).float()\n",
    "    text /= text.norm(dim=-1, keepdim=True)\n",
    "    i = 0\n",
    "    all_score = []\n",
    "    for vid in data:\n",
    "        score = []\n",
    "        for frame in vid:\n",
    "            similarity = text.cpu().numpy() @ frame.cpu().numpy().T\n",
    "            score.append(similarity)\n",
    "        if(check(score)):\n",
    "            res.append(i)\n",
    "        i += 1\n",
    "        all_score.append(score)\n",
    "    return res, all_score"
   ]
  },
  {
   "cell_type": "code",
   "execution_count": 45,
   "id": "d3006964",
   "metadata": {},
   "outputs": [],
   "source": [
    "app = Flask(__name__)\n",
    "api = Api(app)"
   ]
  },
  {
   "cell_type": "code",
   "execution_count": 26,
   "id": "d5b7a323",
   "metadata": {},
   "outputs": [],
   "source": [
    "path = os.getcwd()\n",
    "path = path + '\\dataset'\n",
    "video_paths = [path + '\\\\bird.mp4',path + '\\\\cat.mp4', path + '\\\\fish.mp4', path + '\\\\flower.mp4' ]\n",
    "data = process_videos(video_paths)"
   ]
  },
  {
   "cell_type": "code",
   "execution_count": 27,
   "id": "52f47aa8",
   "metadata": {},
   "outputs": [],
   "source": [
    "links = [\"https://pixabay.com/videos/budgerigar-bird-parrot-pet-animal-2471/\",\"https://pixabay.com/videos/cute-cat-funny-cat-kitten-domestic-3092/\",\n",
    "\"https://pixabay.com/videos/fishes-small-aquarium-small-fish-16166/\", \"https://pixabay.com/videos/blue-tit-blossom-tree-blue-tit-3063/\"]\n",
    "d = {}\n",
    "i = 0\n",
    "for vid in links:\n",
    "    d[i] = vid\n",
    "    i+=1"
   ]
  },
  {
   "cell_type": "code",
   "execution_count": 46,
   "id": "3232dd6a",
   "metadata": {},
   "outputs": [],
   "source": [
    "class clipSearch(Resource):\n",
    "    def get(self):\n",
    "        parser = reqparse.RequestParser()\n",
    "        parser.add_argument('text', required=True)\n",
    "        args = parser.parse_args()\n",
    "        text = args['text']\n",
    "        ans = []\n",
    "        res, scores = search_preprocessed_data(data, text)\n",
    "        for vid in res:\n",
    "            ans.append({'link': d[vid], 'path': video_paths[vid]})\n",
    "        return {'data': ans}, \n",
    "api.add_resource(clipSearch, '/clipsearch') "
   ]
  },
  {
   "cell_type": "code",
   "execution_count": null,
   "id": "5614c626",
   "metadata": {},
   "outputs": [],
   "source": [
    "app.run()"
   ]
  }
 ],
 "metadata": {
  "kernelspec": {
   "display_name": "Python 3 (ipykernel)",
   "language": "python",
   "name": "python3"
  },
  "language_info": {
   "codemirror_mode": {
    "name": "ipython",
    "version": 3
   },
   "file_extension": ".py",
   "mimetype": "text/x-python",
   "name": "python",
   "nbconvert_exporter": "python",
   "pygments_lexer": "ipython3",
   "version": "3.9.7"
  }
 },
 "nbformat": 4,
 "nbformat_minor": 5
}
