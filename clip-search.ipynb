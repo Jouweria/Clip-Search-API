{
 "cells": [
  {
   "cell_type": "code",
   "execution_count": 51,
   "id": "b76bd560",
   "metadata": {},
   "outputs": [
    {
     "name": "stdout",
     "output_type": "stream",
     "text": [
      "Defaulting to user installation because normal site-packages is not writeable\n",
      "Collecting Flask-RESTful\n",
      "  Downloading Flask_RESTful-0.3.9-py2.py3-none-any.whl (25 kB)\n",
      "Requirement already satisfied: Flask>=0.8 in c:\\programdata\\anaconda3\\lib\\site-packages (from Flask-RESTful) (1.1.2)\n",
      "Collecting aniso8601>=0.82\n",
      "  Downloading aniso8601-9.0.1-py2.py3-none-any.whl (52 kB)\n",
      "     -------------------------------------- 52.8/52.8 kB 390.0 kB/s eta 0:00:00\n",
      "Requirement already satisfied: pytz in c:\\programdata\\anaconda3\\lib\\site-packages (from Flask-RESTful) (2022.1)\n",
      "Requirement already satisfied: six>=1.3.0 in c:\\programdata\\anaconda3\\lib\\site-packages (from Flask-RESTful) (1.16.0)\n",
      "Requirement already satisfied: Werkzeug>=0.15 in c:\\programdata\\anaconda3\\lib\\site-packages (from Flask>=0.8->Flask-RESTful) (2.0.3)\n",
      "Requirement already satisfied: Jinja2>=2.10.1 in c:\\programdata\\anaconda3\\lib\\site-packages (from Flask>=0.8->Flask-RESTful) (2.11.3)\n",
      "Requirement already satisfied: itsdangerous>=0.24 in c:\\programdata\\anaconda3\\lib\\site-packages (from Flask>=0.8->Flask-RESTful) (2.0.1)\n",
      "Requirement already satisfied: click>=5.1 in c:\\programdata\\anaconda3\\lib\\site-packages (from Flask>=0.8->Flask-RESTful) (8.0.4)\n",
      "Requirement already satisfied: colorama in c:\\programdata\\anaconda3\\lib\\site-packages (from click>=5.1->Flask>=0.8->Flask-RESTful) (0.4.5)\n",
      "Requirement already satisfied: MarkupSafe>=0.23 in c:\\programdata\\anaconda3\\lib\\site-packages (from Jinja2>=2.10.1->Flask>=0.8->Flask-RESTful) (2.0.1)\n",
      "Installing collected packages: aniso8601, Flask-RESTful\n",
      "Successfully installed Flask-RESTful-0.3.9 aniso8601-9.0.1\n"
     ]
    }
   ],
   "source": [
    "!pip install Flask-RESTful"
   ]
  },
  {
   "cell_type": "code",
   "execution_count": 50,
   "id": "16e0d4dc",
   "metadata": {},
   "outputs": [
    {
     "name": "stdout",
     "output_type": "stream",
     "text": [
      "Defaulting to user installation because normal site-packages is not writeable\n",
      "Requirement already satisfied: Flask in c:\\programdata\\anaconda3\\lib\\site-packages (1.1.2)\n",
      "Requirement already satisfied: Jinja2>=2.10.1 in c:\\programdata\\anaconda3\\lib\\site-packages (from Flask) (2.11.3)\n",
      "Requirement already satisfied: click>=5.1 in c:\\programdata\\anaconda3\\lib\\site-packages (from Flask) (8.0.4)\n",
      "Requirement already satisfied: itsdangerous>=0.24 in c:\\programdata\\anaconda3\\lib\\site-packages (from Flask) (2.0.1)\n",
      "Requirement already satisfied: Werkzeug>=0.15 in c:\\programdata\\anaconda3\\lib\\site-packages (from Flask) (2.0.3)\n",
      "Requirement already satisfied: colorama in c:\\programdata\\anaconda3\\lib\\site-packages (from click>=5.1->Flask) (0.4.5)\n",
      "Requirement already satisfied: MarkupSafe>=0.23 in c:\\programdata\\anaconda3\\lib\\site-packages (from Jinja2>=2.10.1->Flask) (2.0.1)\n"
     ]
    }
   ],
   "source": [
    "!pip install Flask"
   ]
  },
  {
   "cell_type": "code",
   "execution_count": 1,
   "id": "db5d9b1b",
   "metadata": {},
   "outputs": [],
   "source": [
    "import torch\n",
    "import clip\n",
    "import cv2\n",
    "import numpy as np\n",
    "from PIL import Image\n",
    "\n",
    "device = \"cuda\" if torch.cuda.is_available() else \"cpu\"\n",
    "model, preprocess = clip.load(\"ViT-B/32\", device=device)"
   ]
  },
  {
   "cell_type": "code",
   "execution_count": 35,
   "id": "38e5861b",
   "metadata": {},
   "outputs": [],
   "source": [
    "THRESHOLD = 0.27\n",
    "NUM_FRAMES = 5"
   ]
  },
  {
   "cell_type": "code",
   "execution_count": 19,
   "id": "bc473760",
   "metadata": {},
   "outputs": [],
   "source": [
    "def check(score):\n",
    "    curr_score = 0\n",
    "    i = 0\n",
    "    cnt = 0\n",
    "    while i < NUM_FRAMES and i < len(score):\n",
    "        curr_score += score[i]\n",
    "        i += 1\n",
    "    if(curr_score/NUM_FRAMES >= THRESHOLD):\n",
    "        cnt+=1\n",
    "    while i < len(score):\n",
    "        curr_score += score[i];\n",
    "        curr_score -= score[i- NUM_FRAMES]\n",
    "        if(curr_score/NUM_FRAMES >= THRESHOLD):\n",
    "            cnt+=1\n",
    "        i+=1\n",
    "    return cnt"
   ]
  },
  {
   "cell_type": "code",
   "execution_count": 23,
   "id": "464da4ab",
   "metadata": {},
   "outputs": [],
   "source": [
    "def process_videos(video_paths):\n",
    "    res = []\n",
    "    for video_path in video_paths:\n",
    "        frames = extract_frames(video_path)\n",
    "        curr_vid = []\n",
    "        for img in frames:\n",
    "            image = preprocess(img).unsqueeze(0).to(device)\n",
    "            with torch.no_grad():\n",
    "                image = model.encode_image(image).float()\n",
    "                image /= image.norm(dim=-1, keepdim=True)\n",
    "            curr_vid.append(image)\n",
    "        res.append(curr_vid)\n",
    "    return res"
   ]
  },
  {
   "cell_type": "code",
   "execution_count": 32,
   "id": "a93bc3c0",
   "metadata": {},
   "outputs": [],
   "source": [
    "def search_preprocessed_data(data, text):\n",
    "    res = []\n",
    "    text = clip.tokenize(text).to(device)\n",
    "    with torch.no_grad():\n",
    "        text = model.encode_text(text).float()\n",
    "    text /= text.norm(dim=-1, keepdim=True)\n",
    "    i = 0\n",
    "    for vid in data:\n",
    "        score = []\n",
    "        for frame in vid:\n",
    "            similarity = text.cpu().numpy() @ frame.cpu().numpy().T\n",
    "            score.append(similarity)\n",
    "        if(check(score)):\n",
    "            res.append(i)\n",
    "        i += 1\n",
    "    return res"
   ]
  },
  {
   "cell_type": "code",
   "execution_count": 93,
   "id": "d3006964",
   "metadata": {},
   "outputs": [],
   "source": [
    "from flask import Flask\n",
    "from flask_restful import Resource, Api, reqparse\n",
    "import pandas as pd\n",
    "import ast\n",
    "app = Flask(__name__)\n",
    "api = Api(app)"
   ]
  },
  {
   "cell_type": "code",
   "execution_count": 92,
   "id": "d5b7a323",
   "metadata": {},
   "outputs": [],
   "source": [
    "video_paths = [r\"C:\\Users\\thein\\Downloads\\v.mp4\"]\n",
    "links = [\"https://www.youtube.com/\"]\n",
    "data = process_videos(video_paths)\n",
    "d = {}\n",
    "i = 0\n",
    "for vid in links:\n",
    "    d[i] = vid\n",
    "    i+=1"
   ]
  },
  {
   "cell_type": "code",
   "execution_count": 94,
   "id": "3232dd6a",
   "metadata": {},
   "outputs": [],
   "source": [
    "class clipSearch(Resource):\n",
    "    def get(self):\n",
    "        parser = reqparse.RequestParser()\n",
    "        parser.add_argument('text', required=True)\n",
    "        args = parser.parse_args()\n",
    "        text = args['text']\n",
    "        ans = []\n",
    "        res = search_preprocessed_data(data, text)\n",
    "        for vid in res:\n",
    "            ans.append(d[vid])\n",
    "        return {'data': ans}, \n",
    "api.add_resource(clipSearch, '/clipsearch') "
   ]
  },
  {
   "cell_type": "code",
   "execution_count": 95,
   "id": "5614c626",
   "metadata": {},
   "outputs": [
    {
     "name": "stdout",
     "output_type": "stream",
     "text": [
      " * Serving Flask app \"__main__\" (lazy loading)\n",
      " * Environment: production\n",
      "\u001b[31m   WARNING: This is a development server. Do not use it in a production deployment.\u001b[0m\n",
      "\u001b[2m   Use a production WSGI server instead.\u001b[0m\n",
      " * Debug mode: off\n"
     ]
    },
    {
     "name": "stderr",
     "output_type": "stream",
     "text": [
      " * Running on http://127.0.0.1:5000/ (Press CTRL+C to quit)\n",
      "127.0.0.1 - - [31/Mar/2023 17:18:58] \"GET /clipsearch?text=hi HTTP/1.1\" 200 -\n",
      "127.0.0.1 - - [31/Mar/2023 17:19:03] \"GET /clipsearch?text=bye HTTP/1.1\" 200 -\n",
      "127.0.0.1 - - [31/Mar/2023 17:19:10] \"GET /clipsearch?text=sample HTTP/1.1\" 200 -\n",
      "127.0.0.1 - - [31/Mar/2023 17:19:15] \"GET /clipsearch?text=text HTTP/1.1\" 200 -\n"
     ]
    }
   ],
   "source": [
    "app.run()"
   ]
  },
  {
   "cell_type": "code",
   "execution_count": null,
   "id": "04030b6d",
   "metadata": {},
   "outputs": [],
   "source": []
  }
 ],
 "metadata": {
  "kernelspec": {
   "display_name": "Python 3 (ipykernel)",
   "language": "python",
   "name": "python3"
  },
  "language_info": {
   "codemirror_mode": {
    "name": "ipython",
    "version": 3
   },
   "file_extension": ".py",
   "mimetype": "text/x-python",
   "name": "python",
   "nbconvert_exporter": "python",
   "pygments_lexer": "ipython3",
   "version": "3.9.13"
  }
 },
 "nbformat": 4,
 "nbformat_minor": 5
}
